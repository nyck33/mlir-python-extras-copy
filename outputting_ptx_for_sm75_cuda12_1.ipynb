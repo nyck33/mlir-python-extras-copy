{
  "nbformat": 4,
  "nbformat_minor": 0,
  "metadata": {
    "colab": {
      "provenance": [],
      "gpuType": "T4",
      "include_colab_link": true
    },
    "kernelspec": {
      "name": "python3",
      "display_name": "Python 3"
    },
    "language_info": {
      "name": "python"
    },
    "accelerator": "GPU"
  },
  "cells": [
    {
      "cell_type": "markdown",
      "metadata": {
        "id": "view-in-github",
        "colab_type": "text"
      },
      "source": [
        "<a href=\"https://colab.research.google.com/github/nyck33/mlir-python-extras-copy/blob/main/outputting_ptx_for_sm75_cuda12_1.ipynb\" target=\"_parent\"><img src=\"https://colab.research.google.com/assets/colab-badge.svg\" alt=\"Open In Colab\"/></a>"
      ]
    },
    {
      "cell_type": "markdown",
      "source": [
        "# CUDA/NVGPU/NVVM E2E"
      ],
      "metadata": {
        "collapsed": false,
        "id": "dbpNdgk5Ms8v"
      }
    },
    {
      "cell_type": "code",
      "outputs": [
        {
          "output_type": "stream",
          "name": "stdout",
          "text": [
            "\u001b[2K     \u001b[90m━━━━━━━━━━━━━━━━━━━━━━━━━━━━━━━━━━━━━━━━\u001b[0m \u001b[32m58.3/58.3 MB\u001b[0m \u001b[31m8.0 MB/s\u001b[0m eta \u001b[36m0:00:00\u001b[0m\n",
            "\u001b[?25h  Installing build dependencies ... \u001b[?25l\u001b[?25hdone\n",
            "  Getting requirements to build wheel ... \u001b[?25l\u001b[?25hdone\n",
            "  Preparing metadata (pyproject.toml) ... \u001b[?25l\u001b[?25hdone\n",
            "\u001b[2K     \u001b[90m━━━━━━━━━━━━━━━━━━━━━━━━━━━━━━━━━━━━━━━━\u001b[0m \u001b[32m1.7/1.7 MB\u001b[0m \u001b[31m9.4 MB/s\u001b[0m eta \u001b[36m0:00:00\u001b[0m\n",
            "\u001b[?25h  Building wheel for mlir-python-extras (pyproject.toml) ... \u001b[?25l\u001b[?25hdone\n"
          ]
        }
      ],
      "source": [
        "!pip install -q  mlir_python_bindings==19.0.0.2024033101+cuda.a67b9326 -f https://makslevental.github.io/wheels\n",
        "!pip install -q git+https://github.com/makslevental/mlir-python-extras.git"
      ],
      "metadata": {
        "colab": {
          "base_uri": "https://localhost:8080/"
        },
        "id": "Xh-QUDWiX-FD",
        "outputId": "722a9873-61d6-4698-a96c-283a3efd20e1"
      },
      "execution_count": null
    },
    {
      "cell_type": "markdown",
      "source": [
        "# Boilerplate"
      ],
      "metadata": {
        "id": "OSATAYhg7pSZ"
      }
    },
    {
      "cell_type": "code",
      "source": [
        "from pathlib import Path\n",
        "\n",
        "import mlir.extras.types as T\n",
        "from mlir.dialects import builtin\n",
        "from mlir.dialects.transform import any_op_t\n",
        "from mlir.dialects.transform.extras import named_sequence\n",
        "from mlir.dialects.transform.structured import MatchInterfaceEnum\n",
        "from mlir.ir import StringAttr, UnitAttr, Module, Operation, OpView\n",
        "\n",
        "from mlir import _mlir_libs\n",
        "from mlir.extras.ast.canonicalize import canonicalize\n",
        "from mlir.extras.context import RAIIMLIRContext, ExplicitlyManagedModule\n",
        "from mlir.extras.dialects.ext import arith, memref, scf, gpu\n",
        "from mlir.extras.dialects.ext import linalg\n",
        "from mlir.extras.dialects.ext import transform\n",
        "from mlir.extras.dialects.ext.func import func\n",
        "from mlir.extras.runtime.passes import Pipeline, run_pipeline\n",
        "from mlir.extras.runtime.refbackend import LLVMJITBackend\n",
        "from mlir.extras.util import find_ops\n",
        "\n",
        "from typing import Callable, List, Optional, Sequence, Tuple, Union\n",
        "\n",
        "from mlir.passmanager import PassManager\n",
        "\n",
        "\n",
        "CUDA_RUNTIME_LIB_PATH = Path(_mlir_libs.__file__).parent / f\"libmlir_cuda_runtime.so\"\n",
        "assert CUDA_RUNTIME_LIB_PATH.exists()"
      ],
      "metadata": {
        "id": "_R-_0M5ZYO8p",
        "ExecuteTime": {
          "end_time": "2024-02-02T23:37:33.305751797Z",
          "start_time": "2024-02-02T23:37:33.095621203Z"
        }
      },
      "execution_count": null,
      "outputs": []
    },
    {
      "cell_type": "markdown",
      "source": [
        "# Context"
      ],
      "metadata": {
        "id": "s-JTcrjo7tNK"
      }
    },
    {
      "cell_type": "code",
      "source": [
        "ctx = RAIIMLIRContext()\n",
        "\n",
        "src = \"\"\"\n",
        "#map0 = affine_map<(d0) -> (d0)>\n",
        "#map1 = affine_map<(d0) -> (d0 + 64)>\n",
        "#map2 = affine_map<(d0) -> (d0 + 128)>\n",
        "\n",
        "//new affine maps\n",
        "// Affine maps for local indexing within shared memory tiles\n",
        "#localA_row = affine_map<(ii, iii) -> (ii + iii)>\n",
        "#localA_col = affine_map<(kk, kkk) -> (kk + kkk)>\n",
        "#localB_col = affine_map<(jj, jjj) -> (jj + jjj)>\n",
        "\n",
        "// Affine maps for calculating global indices for storing into matrix C\n",
        "#globalC_row = affine_map<(i, ii, iii) -> (i + ii + iii)>\n",
        "#globalC_col = affine_map<(j, jj, jjj) -> (j + jj + jjj)>\n",
        "module {\n",
        "    // Shared memory buffers for A and B.\n",
        "    memref.global \"private\" @b_smem_global : memref<64x136xf16, 3>\n",
        "    memref.global \"private\" @a_smem_global : memref<128x72xf16, 3>\n",
        "    func.func @main() {\n",
        "        // Allocate memory for A, B on host using half precision\n",
        "        %hA = memref.alloc() : memref<8192x8192xf16>\n",
        "        %hB = memref.alloc() : memref<8192x8192xf16>\n",
        "        // Allocate memory for output matrix C on host using single precision\n",
        "        %hC = memref.alloc() : memref<8192x8192xf32>\n",
        "\n",
        "        // Define constants used in the program\n",
        "        %f1 = arith.constant 1.0e+00 : f16 // Constant value 1.0 of type half-precision float\n",
        "        %f0 = arith.constant 0.0e+00 : f32 // Constant value 0.0 of type single-precision float\n",
        "\n",
        "        %c0 = arith.constant 0 : index\n",
        "        %c1 = arith.constant 1 : index\n",
        "\n",
        "        %c8192 = arith.constant 8192 : index\n",
        "\n",
        "        //initialize the input matrices with ones\n",
        "        scf.for %arg0 = %c0 to %c8192 step %c1 {\n",
        "            scf.for %arg1 = %c0 to %c8192 step %c1 {\n",
        "                memref.store %f1, %hA[%arg0, %arg1] : memref<8192x8192xf16>\n",
        "            }\n",
        "        }\n",
        "\n",
        "        //now initialize hB with ones\n",
        "        scf.for %arg0 = %c0 to %c8192 step %c1 {\n",
        "            scf.for %arg1 = %c0 to %c8192 step %c1 {\n",
        "                memref.store %f1, %hB[%arg0, %arg1] : memref<8192x8192xf16>\n",
        "            }\n",
        "        }\n",
        "\n",
        "        //now initialize hC with zeros\n",
        "        scf.for %arg0 = %c0 to %c8192 step %c1 {\n",
        "            scf.for %arg1 = %c0 to %c8192 step %c1 {\n",
        "                memref.store %f0, %hC[%arg0, %arg1] : memref<8192x8192xf32>\n",
        "            }\n",
        "        }\n",
        "        // Asynchronous operations token\n",
        "        %token = gpu.wait async\n",
        "\n",
        "        // Allocate device memory for matrices A, B, and C asynchronously\n",
        "        %A, %tokenA = gpu.alloc async [%token] () : memref<8192x8192xf16>\n",
        "        %B, %tokenB = gpu.alloc async [%token] () : memref<8192x8192xf16>\n",
        "        %C, %tokenC = gpu.alloc async [%token] () : memref<8192x8192xf32>\n",
        "\n",
        "        // Copy A and B from host to device asynchronously\n",
        "        %copyA = gpu.memcpy async [%token] %A, %hA : memref<8192x8192xf16>, memref<8192x8192xf16>\n",
        "        %copyB = gpu.memcpy async [%token] %B, %hB : memref<8192x8192xf16>, memref<8192x8192xf16>\n",
        "        // Copy C from host to device asynchronously (if initialization on host is needed)\n",
        "        %copyC = gpu.memcpy async [%token] %C, %hC : memref<8192x8192xf32>, memref<8192x8192xf32>\n",
        "\n",
        "        //define block and grid xyz where each block is 16 x 16 threads\n",
        "        //thread block granular to warp operations (256 threads per block)\n",
        "        %blockX = arith.constant 16 : index\n",
        "        %blockY = arith.constant 16 : index\n",
        "        %blockZ = arith.constant 1 : index\n",
        "        %gridX = arith.constant 512 : index\n",
        "        %gridY = arith.constant 512 : index\n",
        "        %gridZ = arith.constant 1 : index\n",
        "\n",
        "        //define the gpu.launch blocks for the kernel, grid (2,4,1), block (16,16,1) for 64*32 result tile covered by threads\n",
        "        gpu.launch blocks(%bx, %by, %bz) in (%grid_x = %gridX, %grid_y = %gridY, %grid_z = %gridZ) threads(%tx, %ty, %tz) in (%block_x = %blockX, %block_y = %blockY, %block_z = %blockZ) {\n",
        "\n",
        "            affine.for %i = 0 to 8192 step 128 { //128 rows of tile C/A\n",
        "                affine.for %j = 0 to 8192 step 128 {//128 cols of tile C/B\n",
        "\n",
        "                    // References to shared memory buffers.\n",
        "                    %b_smem = memref.get_global @b_smem_global : memref<64x136xf16, 3>\n",
        "                    %a_smem = memref.get_global @a_smem_global : memref<128x72xf16, 3>\n",
        "                    //main k-loop\n",
        "                    affine.for %k = 0 to 8192 step 64 {  //64 is cols A tile and rows B tile\n",
        "                        // Copy loop for B tile\n",
        "                        affine.for %copykk = #map0(%k) to #map1(%k) {//k to k + 64\n",
        "                            affine.for %copyjj = #map0(%j) to #map2(%j) {//j to j + 128\n",
        "                                %11 = affine.load %B[%copykk, %copyjj] : memref<8192x8192xf16>\n",
        "                                affine.store %11, %b_smem[%copykk - %k, %copyjj - %j] : memref<64x136xf16, 3>\n",
        "                            }\n",
        "                        }\n",
        "                        // Copy loop for A tile\n",
        "                        affine.for %copyii = #map0(%i) to #map2(%i) {//i to i + 128\n",
        "                            affine.for %copykk = #map0(%k) to #map1(%k) {//k to k + 64\n",
        "                                %11 = affine.load %A[%copyii, %copykk] : memref<8192x8192xf16>\n",
        "                                //%11 is the value of A at %copyii, %copykk\n",
        "                                //copyii - i to index into the shared memory of size 128 * 72, the padded section remains as\n",
        "                                affine.store %11, %a_smem[%copyii - %i, %copykk - %k] : memref<128x72xf16, 3>\n",
        "                            }\n",
        "                        }\n",
        "                        //copied so iterate over the tiles\n",
        "                        affine.for %ii = 0 to 128 step 64 {//rows A tile\n",
        "                            affine.for %jj = 0 to 128 step 32 {//cols B tile\n",
        "                                affine.for %kk = 0 to 64 step 32 {//cols A tile\n",
        "                                //iterate the 64 * 32 A minitile, 32 * 32 B minitile\n",
        "                                    affine.for %kkk = 0 to 32 step 16 {//2 steps\n",
        "                                        affine.for %iii = 0 to 64 step 16 {//4 steps\n",
        "                                            affine.for %jjj = 0 to 32 step 16 {//2 steps\n",
        "\n",
        "                                                // Assuming %ii, %jj, %kk are the local loop variables for sub-tile indexing\n",
        "                                                %localA_row = affine.apply #localA_row(%ii, %iii) // Local row index within %a_smem\n",
        "                                                %localA_col = affine.apply #localA_col(%kk, %kkk) // Local column index within %a_smem\n",
        "                                                %localB_col = affine.apply #localB_col(%jj, %jjj) // Local column index within %b_smem\n",
        "\n",
        "                                                //%11 = %localA_row\n",
        "                                                //%12 = %localA_col\n",
        "                                                //%14 = %localB_col\n",
        "                                                //%16 = globalC_row\n",
        "                                                //%17 = %globalC_col\n",
        "                                                // Calculate global indices for storing the result into matrix C\n",
        "                                                %globalC_row = affine.apply #globalC_row(%i, %ii, %iii)\n",
        "                                                %globalC_col = affine.apply #globalC_col(%j, %jj, %jjj)\n",
        "\n",
        "                                                //A tile 128 * 72 load 16 * 16 fragment into warp matrix\n",
        "                                                %a = gpu.subgroup_mma_load_matrix %a_smem[%localA_row, %localA_col] {leadDimension = 72 : index} : memref<128x72xf16, 3> -> !gpu.mma_matrix<16x16xf16, \"AOp\">\n",
        "\n",
        "                                                // B tile is 64 * 136, load 16 * 16 fragment into warp matrix\n",
        "                                                %b = gpu.subgroup_mma_load_matrix %b_smem[%localA_col, %localB_col] {leadDimension = 136 : index} : memref<64x136xf16, 3> -> !gpu.mma_matrix<16x16xf16, \"BOp\">\n",
        "\n",
        "                                                //C matrix is 8192 * 8192, load 16 * 16 fragment into warp matrix\n",
        "                                                %c = gpu.subgroup_mma_load_matrix %C[%localA_row, %localB_col] {leadDimension = 8192 : index} : memref<8192x8192xf32> -> !gpu.mma_matrix<16x16xf32, \"COp\">\n",
        "\n",
        "                                                %res = gpu.subgroup_mma_compute %a, %b, %c : !gpu.mma_matrix<16x16xf16, \"AOp\">, !gpu.mma_matrix<16x16xf16, \"BOp\"> -> !gpu.mma_matrix<16x16xf32, \"COp\">\n",
        "                                                //stores the warp tile into global result matrix so need %16 and %17 to be global\n",
        "                                                gpu.subgroup_mma_store_matrix %res, %C[%globalC_row, %globalC_col] {leadDimension = 8192 : index} : !gpu.mma_matrix<16x16xf32, \"COp\">, memref<8192x8192xf32>\n",
        "\n",
        "\n",
        "                                                }\n",
        "                                            }\n",
        "                                        }\n",
        "                                    }\n",
        "                                }\n",
        "                            }\n",
        "                        }\n",
        "                    }\n",
        "                }\n",
        "            // Print success message to indicate successful execution\n",
        "\n",
        "            // CHECK: Success\n",
        "            gpu.terminator\n",
        "        }\n",
        "        // Deallocate device memory for matrices A, B, and C asynchronously\n",
        "        %zA = gpu.dealloc async [%token] %A : memref<8192x8192xf16>\n",
        "        %zB = gpu.dealloc async [%token] %B : memref<8192x8192xf16>\n",
        "        %zC = gpu.dealloc async [%token] %C : memref<8192x8192xf32>\n",
        "\n",
        "        // Wait for all asynchronous operations to complete\n",
        "        gpu.wait [%token]\n",
        "        return\n",
        "    }\n",
        "\n",
        "\n",
        "    }\n",
        "\"\"\"\n",
        "\n",
        "module = Module.parse(src)"
      ],
      "metadata": {
        "id": "AGpWj9BzZLC_",
        "ExecuteTime": {
          "end_time": "2024-02-02T23:37:35.747960473Z",
          "start_time": "2024-02-02T23:37:35.744761575Z"
        },
        "outputId": "c42370f5-542a-4318-f2b4-f800979c0a0f",
        "colab": {
          "base_uri": "https://localhost:8080/"
        }
      },
      "execution_count": null,
      "outputs": [
        {
          "output_type": "stream",
          "name": "stderr",
          "text": [
            "Exception ignored in: <function RAIIMLIRContext.__del__ at 0x7eddc1eaf490>\n",
            "Traceback (most recent call last):\n",
            "  File \"/usr/local/lib/python3.10/dist-packages/mlir/extras/context.py\", line 57, in __del__\n",
            "RuntimeError: Unbalanced Location enter/exit\n"
          ]
        }
      ]
    },
    {
      "cell_type": "code",
      "source": [
        "def find_ops(op, pred: Callable[[OpView, Operation, Module], bool], single=False):\n",
        "  if isinstance(op, (OpView, Module)):\n",
        "    op = op.operation\n",
        "\n",
        "  matching = []\n",
        "\n",
        "  def find(op: Operation):\n",
        "    if single and len(matching):\n",
        "      return\n",
        "    for r in op.regions:\n",
        "      for b in r.blocks:\n",
        "        for o in b.operations:\n",
        "          if pred(o):\n",
        "            matching.append(o)\n",
        "          find(o)\n",
        "\n",
        "  find(op)\n",
        "  if single and matching:\n",
        "    matching = matching[0]\n",
        "  return matching\n",
        "\n",
        "def print_ptx(module):\n",
        "  ptx = find_ops(module, lambda o: o.name == \"gpu.binary\", single=True)\n",
        "  ptx = str(ptx.objects).replace(\"\\\\0A\", \"\\n\").replace(\"\\\\09\", \"\\t\")\n",
        "  print(ptx)\n",
        "\n",
        "pm = PassManager(\"any\")\n",
        "pm.add(\"gpu-lower-to-nvvm-pipeline{ cubin-chip=sm_75 cubin-features=+ptx75 cubin-format=isa }\")\n",
        "pm.run(module.operation)\n",
        "print_ptx(module)"
      ],
      "metadata": {
        "id": "I3EYS_F_ts2Y",
        "outputId": "f4655042-94e9-4784-ca63-6e40c0d3044a",
        "colab": {
          "base_uri": "https://localhost:8080/",
          "height": 228
        }
      },
      "execution_count": null,
      "outputs": [
        {
          "output_type": "error",
          "ename": "MLIRError",
          "evalue": "Failure while executing pass pipeline:\nerror: unknown: failed to legalize operation 'builtin.unrealized_conversion_cast' that was explicitly marked illegal\n note: unknown: see current operation: %13 = \"builtin.unrealized_conversion_cast\"(%5) : (i64) -> index",
          "traceback": [
            "\u001b[0;31m---------------------------------------------------------------------------\u001b[0m",
            "\u001b[0;31mMLIRError\u001b[0m                                 Traceback (most recent call last)",
            "\u001b[0;32m<ipython-input-18-70d4ddb36db7>\u001b[0m in \u001b[0;36m<cell line: 29>\u001b[0;34m()\u001b[0m\n\u001b[1;32m     27\u001b[0m \u001b[0mpm\u001b[0m \u001b[0;34m=\u001b[0m \u001b[0mPassManager\u001b[0m\u001b[0;34m(\u001b[0m\u001b[0;34m\"any\"\u001b[0m\u001b[0;34m)\u001b[0m\u001b[0;34m\u001b[0m\u001b[0;34m\u001b[0m\u001b[0m\n\u001b[1;32m     28\u001b[0m \u001b[0mpm\u001b[0m\u001b[0;34m.\u001b[0m\u001b[0madd\u001b[0m\u001b[0;34m(\u001b[0m\u001b[0;34m\"gpu-lower-to-nvvm-pipeline{ cubin-chip=sm_75 cubin-features=+ptx75 cubin-format=isa }\"\u001b[0m\u001b[0;34m)\u001b[0m\u001b[0;34m\u001b[0m\u001b[0;34m\u001b[0m\u001b[0m\n\u001b[0;32m---> 29\u001b[0;31m \u001b[0mpm\u001b[0m\u001b[0;34m.\u001b[0m\u001b[0mrun\u001b[0m\u001b[0;34m(\u001b[0m\u001b[0mmodule\u001b[0m\u001b[0;34m.\u001b[0m\u001b[0moperation\u001b[0m\u001b[0;34m)\u001b[0m\u001b[0;34m\u001b[0m\u001b[0;34m\u001b[0m\u001b[0m\n\u001b[0m\u001b[1;32m     30\u001b[0m \u001b[0mprint_ptx\u001b[0m\u001b[0;34m(\u001b[0m\u001b[0mmodule\u001b[0m\u001b[0;34m)\u001b[0m\u001b[0;34m\u001b[0m\u001b[0;34m\u001b[0m\u001b[0m\n",
            "\u001b[0;31mMLIRError\u001b[0m: Failure while executing pass pipeline:\nerror: unknown: failed to legalize operation 'builtin.unrealized_conversion_cast' that was explicitly marked illegal\n note: unknown: see current operation: %13 = \"builtin.unrealized_conversion_cast\"(%5) : (i64) -> index"
          ]
        }
      ]
    },
    {
      "cell_type": "markdown",
      "source": [
        "# Lower to NVVM (and LLVM)"
      ],
      "metadata": {
        "id": "D_NURglF8ZZW"
      }
    },
    {
      "cell_type": "code",
      "source": [
        "backend = LLVMJITBackend([CUDA_RUNTIME_LIB_PATH])\n",
        "# this doesn't actually anything (no pipeline) but does generate C API/wrappers\n",
        "compiled_module = backend.compile(\n",
        "    module,\n",
        "    Pipeline().add_pass(\n",
        "        \"gpu-lower-to-nvvm-pipeline\",\n",
        "        **{\n",
        "            \"cubin-chip\": \"sm_75\",\n",
        "            \"cubin-features\": \"+ptx75\",\n",
        "            \"cubin-format\": \"fatbin\",\n",
        "        },\n",
        "    ),\n",
        ")\n",
        "print(compiled_module)"
      ],
      "metadata": {
        "id": "9IoWjgc48bcn",
        "ExecuteTime": {
          "end_time": "2024-02-02T23:38:03.692156925Z",
          "start_time": "2024-02-02T23:38:03.645670813Z"
        },
        "colab": {
          "base_uri": "https://localhost:8080/"
        },
        "outputId": "58fcea02-7737-450f-9cb6-bc3431e4ddf4"
      },
      "execution_count": null,
      "outputs": [
        {
          "output_type": "stream",
          "name": "stdout",
          "text": [
            "module attributes {gpu.container_module} {\n",
            "  llvm.func @malloc(i64) -> !llvm.ptr\n",
            "  llvm.func @main() attributes {llvm.emit_c_interface} {\n",
            "    %0 = llvm.mlir.constant(0 : i32) : i32\n",
            "    %1 = llvm.mlir.constant(1 : i32) : i32\n",
            "    %2 = llvm.mlir.constant(2 : i32) : i32\n",
            "    %3 = llvm.mlir.constant(4 : i32) : i32\n",
            "    %4 = llvm.mlir.constant(8 : i32) : i32\n",
            "    %5 = llvm.mlir.constant(16 : i32) : i32\n",
            "    %6 = llvm.mlir.constant(3 : i32) : i32\n",
            "    %7 = llvm.mlir.constant(6 : i32) : i32\n",
            "    %8 = llvm.mlir.constant(7 : i32) : i32\n",
            "    %9 = llvm.mlir.constant(10 : i32) : i32\n",
            "    %10 = llvm.mlir.constant(11 : i32) : i32\n",
            "    %11 = llvm.mlir.constant(0 : index) : i64\n",
            "    %12 = llvm.mlir.constant(1 : index) : i64\n",
            "    %13 = llvm.mlir.constant(2 : index) : i64\n",
            "    %14 = llvm.mlir.constant(3 : index) : i64\n",
            "    %15 = llvm.mlir.constant(4 : index) : i64\n",
            "    %16 = llvm.mlir.constant(5 : index) : i64\n",
            "    %17 = llvm.mlir.constant(6 : index) : i64\n",
            "    %18 = llvm.mlir.zero : !llvm.ptr\n",
            "    %19 = llvm.getelementptr %18[12] : (!llvm.ptr) -> !llvm.ptr, i32\n",
            "    %20 = llvm.ptrtoint %19 : !llvm.ptr to i64\n",
            "    %21 = llvm.call @malloc(%20) : (i64) -> !llvm.ptr\n",
            "    %22 = llvm.mlir.undef : !llvm.struct<(ptr, ptr, i64, array<2 x i64>, array<2 x i64>)>\n",
            "    %23 = llvm.insertvalue %21, %22[0] : !llvm.struct<(ptr, ptr, i64, array<2 x i64>, array<2 x i64>)> \n",
            "    %24 = llvm.insertvalue %21, %23[1] : !llvm.struct<(ptr, ptr, i64, array<2 x i64>, array<2 x i64>)> \n",
            "    %25 = llvm.insertvalue %11, %24[2] : !llvm.struct<(ptr, ptr, i64, array<2 x i64>, array<2 x i64>)> \n",
            "    %26 = llvm.insertvalue %13, %25[3, 0] : !llvm.struct<(ptr, ptr, i64, array<2 x i64>, array<2 x i64>)> \n",
            "    %27 = llvm.insertvalue %17, %26[3, 1] : !llvm.struct<(ptr, ptr, i64, array<2 x i64>, array<2 x i64>)> \n",
            "    %28 = llvm.insertvalue %17, %27[4, 0] : !llvm.struct<(ptr, ptr, i64, array<2 x i64>, array<2 x i64>)> \n",
            "    %29 = llvm.insertvalue %12, %28[4, 1] : !llvm.struct<(ptr, ptr, i64, array<2 x i64>, array<2 x i64>)> \n",
            "    %30 = llvm.getelementptr %18[2] : (!llvm.ptr) -> !llvm.ptr, i32\n",
            "    %31 = llvm.ptrtoint %30 : !llvm.ptr to i64\n",
            "    %32 = llvm.call @malloc(%31) : (i64) -> !llvm.ptr\n",
            "    %33 = llvm.mlir.undef : !llvm.struct<(ptr, ptr, i64, array<1 x i64>, array<1 x i64>)>\n",
            "    %34 = llvm.insertvalue %32, %33[0] : !llvm.struct<(ptr, ptr, i64, array<1 x i64>, array<1 x i64>)> \n",
            "    %35 = llvm.insertvalue %32, %34[1] : !llvm.struct<(ptr, ptr, i64, array<1 x i64>, array<1 x i64>)> \n",
            "    %36 = llvm.insertvalue %11, %35[2] : !llvm.struct<(ptr, ptr, i64, array<1 x i64>, array<1 x i64>)> \n",
            "    %37 = llvm.insertvalue %13, %36[3, 0] : !llvm.struct<(ptr, ptr, i64, array<1 x i64>, array<1 x i64>)> \n",
            "    %38 = llvm.insertvalue %12, %37[4, 0] : !llvm.struct<(ptr, ptr, i64, array<1 x i64>, array<1 x i64>)> \n",
            "    %39 = llvm.alloca %12 x !llvm.struct<(ptr, ptr, i64, array<2 x i64>, array<2 x i64>)> : (i64) -> !llvm.ptr\n",
            "    llvm.store %29, %39 : !llvm.struct<(ptr, ptr, i64, array<2 x i64>, array<2 x i64>)>, !llvm.ptr\n",
            "    %40 = llvm.getelementptr %18[1] : (!llvm.ptr) -> !llvm.ptr, i32\n",
            "    %41 = llvm.ptrtoint %40 : !llvm.ptr to i64\n",
            "    llvm.call @mgpuMemHostRegisterMemRef(%13, %39, %41) : (i64, !llvm.ptr, i64) -> ()\n",
            "    %42 = llvm.alloca %12 x !llvm.struct<(ptr, ptr, i64, array<1 x i64>, array<1 x i64>)> : (i64) -> !llvm.ptr\n",
            "    llvm.store %38, %42 : !llvm.struct<(ptr, ptr, i64, array<1 x i64>, array<1 x i64>)>, !llvm.ptr\n",
            "    llvm.call @mgpuMemHostRegisterMemRef(%12, %42, %41) : (i64, !llvm.ptr, i64) -> ()\n",
            "    %43 = llvm.mul %11, %17  : i64\n",
            "    %44 = llvm.add %43, %11  : i64\n",
            "    %45 = llvm.getelementptr %21[%44] : (!llvm.ptr, i64) -> !llvm.ptr, i32\n",
            "    llvm.store %0, %45 : i32, !llvm.ptr\n",
            "    %46 = llvm.add %43, %12  : i64\n",
            "    %47 = llvm.getelementptr %21[%46] : (!llvm.ptr, i64) -> !llvm.ptr, i32\n",
            "    llvm.store %1, %47 : i32, !llvm.ptr\n",
            "    %48 = llvm.add %43, %13  : i64\n",
            "    %49 = llvm.getelementptr %21[%48] : (!llvm.ptr, i64) -> !llvm.ptr, i32\n",
            "    llvm.store %2, %49 : i32, !llvm.ptr\n",
            "    %50 = llvm.add %43, %14  : i64\n",
            "    %51 = llvm.getelementptr %21[%50] : (!llvm.ptr, i64) -> !llvm.ptr, i32\n",
            "    llvm.store %3, %51 : i32, !llvm.ptr\n",
            "    %52 = llvm.add %43, %15  : i64\n",
            "    %53 = llvm.getelementptr %21[%52] : (!llvm.ptr, i64) -> !llvm.ptr, i32\n",
            "    llvm.store %4, %53 : i32, !llvm.ptr\n",
            "    %54 = llvm.add %43, %16  : i64\n",
            "    %55 = llvm.getelementptr %21[%54] : (!llvm.ptr, i64) -> !llvm.ptr, i32\n",
            "    llvm.store %5, %55 : i32, !llvm.ptr\n",
            "    %56 = llvm.mul %12, %17  : i64\n",
            "    %57 = llvm.add %56, %11  : i64\n",
            "    %58 = llvm.getelementptr %21[%57] : (!llvm.ptr, i64) -> !llvm.ptr, i32\n",
            "    llvm.store %2, %58 : i32, !llvm.ptr\n",
            "    %59 = llvm.add %56, %12  : i64\n",
            "    %60 = llvm.getelementptr %21[%59] : (!llvm.ptr, i64) -> !llvm.ptr, i32\n",
            "    llvm.store %6, %60 : i32, !llvm.ptr\n",
            "    %61 = llvm.add %56, %13  : i64\n",
            "    %62 = llvm.getelementptr %21[%61] : (!llvm.ptr, i64) -> !llvm.ptr, i32\n",
            "    llvm.store %7, %62 : i32, !llvm.ptr\n",
            "    %63 = llvm.add %56, %14  : i64\n",
            "    %64 = llvm.getelementptr %21[%63] : (!llvm.ptr, i64) -> !llvm.ptr, i32\n",
            "    llvm.store %8, %64 : i32, !llvm.ptr\n",
            "    %65 = llvm.add %56, %15  : i64\n",
            "    %66 = llvm.getelementptr %21[%65] : (!llvm.ptr, i64) -> !llvm.ptr, i32\n",
            "    llvm.store %9, %66 : i32, !llvm.ptr\n",
            "    %67 = llvm.add %56, %16  : i64\n",
            "    %68 = llvm.getelementptr %21[%67] : (!llvm.ptr, i64) -> !llvm.ptr, i32\n",
            "    llvm.store %10, %68 : i32, !llvm.ptr\n",
            "    gpu.launch_func  @main_kernel::@main_kernel blocks in (%13, %12, %12) threads in (%17, %12, %12) : i64 args(%21 : !llvm.ptr, %21 : !llvm.ptr, %11 : i64, %13 : i64, %17 : i64, %17 : i64, %12 : i64, %32 : !llvm.ptr, %32 : !llvm.ptr, %11 : i64, %13 : i64, %12 : i64)\n",
            "    llvm.call @printMemrefI32(%12, %42) : (i64, !llvm.ptr) -> ()\n",
            "    llvm.return\n",
            "  }\n",
            "  llvm.func @_mlir_ciface_main() attributes {llvm.emit_c_interface} {\n",
            "    llvm.call @main() : () -> ()\n",
            "    llvm.return\n",
            "  }\n",
            "  gpu.binary @main_kernel  [#gpu.object<#nvvm.target<chip = \"sm_75\", features = \"+ptx75\">, \"P\\EDU\\BA\\01\\00\\10\\00x$\\00\\00\\00\\00\\00\\00\\02\\00\\01\\01@\\00\\00\\00`\\1D\\00\\00\\00\\00\\00\\00\\00\\00\\00\\00\\00\\00\\00\\00\\07\\00\\01\\00K\\00\\00\\00\\00\\00\\00\\00\\00\\00\\00\\00\\11\\00\\00\\00\\00\\00\\00\\00\\00\\00\\00\\00\\00\\00\\00\\00\\00\\00\\00\\00\\00\\00\\00\\00\\7FELF\\02\\01\\013\\07\\00\\00\\00\\00\\00\\00\\00\\02\\00\\BE\\00z\\00\\00\\00\\00\\00\\00\\00\\00\\00\\00\\00\\80\\1C\\00\\00\\00\\00\\00\\00\\80\\19\\00\\00\\00\\00\\00\\00K\\05K\\00@\\008\\00\\04\\00@\\00\\0C\\00\\01\\00\\00.shstrtab\\00.strtab\\00.symtab\\00.symtab_shndx\\00.nv.uft.entry\\00.nv.info\\00.text.main_kernel\\00.nv.info.main_kernel\\00.nv.shared.main_kernel\\00.nv.constant0.main_kernel\\00.debug_frame\\00.rel.debug_frame\\00.rela.debug_frame\\00.nv.rel.action\\00\\00.shstrtab\\00.strtab\\00.symtab\\00.symtab_shndx\\00.nv.uft.entry\\00.nv.info\\00main_kernel\\00.text.main_kernel\\00.nv.info.main_kernel\\00.nv.shared.main_kernel\\00$main_kernel$__cuda_sm70_shflsync_bfly\\00$main_kernel$__cuda_sm70_shflsync_bfly_p\\00$____wg_main_kernel_0__32\\00.nv.constant0.main_kernel\\00_param\\00.debug_frame\\00.rel.debug_frame\\00.rela.debug_frame\\00.nv.rel.action\\00\\00\\00\\00\\00\\00\\00\\00\\00\\00\\00\\00\\00\\00\\00\\00\\00\\00\\00\\00\\00\\00\\00\\00\\00\\00\\00\\00\\00\\00L\\00\\00\\00\\03\\00\\0A\\00\\00\\00\\00\\00\\00\\00\\00\\00\\00\\00\\00\\00\\00\\00\\00\\00s\\00\\00\\00\\03\\00\\0B\\00\\00\\00\\00\\00\\00\\00\\00\\00\\00\\00\\00\\00\\00\\00\\00\\00\\8A\\00\\00\\00\\22\\00\\0A\\00\\E0\\0F\\00\\00\\00\\00\\00\\00@\\00\\00\\00\\00\\00\\00\\00\\B1\\00\\00\\00\\22\\00\\0A\\00 \\10\\00\\00\\00\\00\\00\\00`\\00\\00\\00\\00\\00\\00\\00\\F4\\00\\00\\00\\03\\00\\09\\00\\00\\00\\00\\00\\00\\00\\00\\00\\00\\00\\00\\00\\00\\00\\00\\00\\15\\01\\00\\00\\03\\00\\04\\00\\00\\00\\00\\00\\00\\00\\00\\00\\00\\00\\00\\00\\00\\00\\00\\00E\\01\\00\\00\\03\\00\\07\\00\\00\\00\\00\\00\\00\\00\\00\\00\\00\\00\\00\\00\\00\\00\\00\\00@\\00\\00\\00\\12\\10\\0A\\00\\00\\00\\00\\00\\00\\00\\00\\00\\80\\10\\00\\00\\00\\00\\00\\00\\FF\\FF\\FF\\FF$\\00\\00\\00\\00\\00\\00\\00\\FF\\FF\\FF\\FF\\FF\\FF\\FF\\FF\\03\\00\\04|\\FF\\FF\\FF\\FF\\0F\\0C\\81\\80\\80(\\00\\08\\FF\\81\\80(\\08\\81\\80\\80(\\00\\00\\00\\FF\\FF\\FF\\FF4\\00\\00\\00\\00\\00\\00\\00\\00\\00\\00\\00\\00\\00\\00\\00\\00\\00\\00\\00\\00\\00\\00\\00\\E0\\0F\\00\\00\\00\\00\\00\\00\\04\\04\\00\\00\\00\\04H\\00\\00\\00\\0C\\81\\80\\80(\\00\\04\\A0\\03\\00\\00\\00\\00\\00\\00\\00\\00\\00\\FF\\FF\\FF\\FF<\\00\\00\\00\\00\\00\\00\\00\\FF\\FF\\FF\\FF\\FF\\FF\\FF\\FF\\03\\00\\04|\\80\\82\\80(\\0C\\81\\80\\80(\\00\\08\\FF\\81\\80(\\08\\81\\80\\80(\\08\\82\\80\\80(\\16\\80\\82\\80(\\10\\03\\00\\00\\00\\00\\00\\00\\00\\00\\92\\82\\80\\80(\\00\\22\\00\\FF\\FF\\FF\\FF\\1C\\00\\00\\00\\00\\00\\00\\00p\\00\\00\\00\\00\\00\\00\\00\\E0\\0F\\00\\00\\00\\00\\00\\00@\\00\\00\\00\\00\\00\\00\\00\\00\\00\\00\\00\\FF\\FF\\FF\\FF<\\00\\00\\00\\00\\00\\00\\00\\FF\\FF\\FF\\FF\\FF\\FF\\FF\\FF\\03\\00\\04|\\80\\82\\80(\\0C\\81\\80\\80(\\00\\08\\FF\\81\\80(\\08\\81\\80\\80(\\08\\82\\80\\80(\\16\\80\\82\\80(\\10\\03\\00\\00\\00\\00\\00\\00\\00\\00\\92\\82\\80\\80(\\00\\22\\00\\FF\\FF\\FF\\FF\\1C\\00\\00\\00\\00\\00\\00\\00\\E0\\00\\00\\00\\00\\00\\00\\00 \\10\\00\\00\\00\\00\\00\\00`\\00\\00\\00\\00\\00\\00\\00\\00\\00\\00\\00\\04/\\08\\00\\08\\00\\00\\00\\10\\00\\00\\00\\04#\\08\\00\\04\\00\\00\\00\\00\\00\\00\\00\\04\\12\\08\\00\\04\\00\\00\\00\\00\\00\\00\\00\\04\\11\\08\\00\\04\\00\\00\\00\\00\\00\\00\\00\\04#\\08\\00\\03\\00\\00\\00\\00\\00\\00\\00\\04\\12\\08\\00\\03\\00\\00\\00\\00\\00\\00\\00\\04\\11\\08\\00\\03\\00\\00\\00\\00\\00\\00\\00\\04#\\08\\00\\08\\00\\00\\00\\00\\00\\00\\00\\04\\12\\08\\00\\08\\00\\00\\00\\00\\00\\00\\00\\04\\11\\08\\00\\08\\00\\00\\00\\00\\00\\00\\00\\046\\04\\00\\01\\00\\00\\00\\047\\04\\00z\\00\\00\\00\\04\\0A\\08\\00\\05\\00\\00\\00`\\01`\\00\\03\\19`\\00\\04\\17\\0C\\00\\00\\00\\00\\00\\0B\\00X\\00\\00\\F0!\\00\\04\\17\\0C\\00\\00\\00\\00\\00\\0A\\00P\\00\\00\\F0!\\00\\04\\17\\0C\\00\\00\\00\\00\\00\\09\\00H\\00\\00\\F0!\\00\\04\\17\\0C\\00\\00\\00\\00\\00\\08\\00@\\00\\00\\F0!\\00\\04\\17\\0C\\00\\00\\00\\00\\00\\07\\008\\00\\00\\F0!\\00\\04\\17\\0C\\00\\00\\00\\00\\00\\06\\000\\00\\00\\F0!\\00\\04\\17\\0C\\00\\00\\00\\00\\00\\05\\00(\\00\\00\\F0!\\00\\04\\17\\0C\\00\\00\\00\\00\\00\\04\\00 \\00\\00\\F0!\\00\\04\\17\\0C\\00\\00\\00\\00\\00\\03\\00\\18\\00\\00\\F0!\\00\\04\\17\\0C\\00\\00\\00\\00\\00\\02\\00\\10\\00\\00\\F0!\\00\\04\\17\\0C\\00\\00\\00\\00\\00\\01\\00\\08\\00\\00\\F0!\\00\\04\\17\\0C\\00\\00\\00\\00\\00\\00\\00\\00\\00\\00\\F0!\\00\\03\\1B\\FF\\00\\04(\\A0\\00\\80\\01\\00\\00\\B0\\01\\00\\00\\E0\\01\\00\\00\\10\\02\\00\\00@\\02\\00\\00\\90\\02\\00\\00\\B0\\02\\00\\00\\D0\\02\\00\\00\\F0\\02\\00\\00\\10\\03\\00\\00\\B0\\04\\00\\00\\E0\\04\\00\\00\\10\\05\\00\\00@\\05\\00\\00p\\05\\00\\00\\C0\\05\\00\\00\\E0\\05\\00\\00\\00\\06\\00\\00 \\06\\00\\00@\\06\\00\\00\\10\\07\\00\\00\\80\\07\\00\\00\\F0\\07\\00\\00`\\08\\00\\00\\D0\\08\\00\\00P\\09\\00\\00\\B0\\09\\00\\00\\10\\0A\\00\\00p\\0A\\00\\00\\E0\\0A\\00\\00P\\0B\\00\\00\\E0\\0B\\00\\00p\\0C\\00\\00\\00\\0D\\00\\00\\90\\0D\\00\\00 \\0E\\00\\00\\80\\0E\\00\\00\\E0\\0E\\00\\00@\\0F\\00\\00\\B0\\0F\\00\\00\\04\\1C\\04\\00\\D0\\06\\00\\00\\04\\05\\0C\\00\\06\\00\\00\\00\\01\\00\\00\\00\\01\\00\\00\\00\\04\\1E\\04\\00\\00\\00\\00\\00s\\00\\00\\00\\00\\00\\00\\00\\00\\00\\00\\11%\\00\\056<\\01\\00\\00\\00\\00\\00\\00\\02\\00\\00\\00\\08\\00\\00\\00\\CC\\00\\00\\00\\00\\00\\00\\00\\02\\00\\00\\00\\08\\00\\00\\00D\\00\\00\\00\\00\\00\\00\\00\\02\\00\\00\\00\\08\\00\\00\\00\\18\\01\\00\\00\\00\\00\\00\\00\\02\\00\\00\\00\\08\\00\\00\\00\\A8\\00\\00\\00\\00\\00\\00\\00\\02\\00\\00\\00\\08\\00\\00\\00\\00\\00\\00\\00\\00\\00\\00\\00\\00\\00\\00\\00\\00\\00\\00\\00\\00\\00\\00\\00\\00\\00\\00\\00\\00\\00\\00\\00\\00\\00\\00\\00\\00\\00\\00\\00\\00\\00\\00\\00\\00\\00\\00\\00\\00\\00\\00\\00\\00\\00\\00\\00\\00\\00\\00\\00\\00\\00\\00\\00\\00\\00\\00\\00\\00\\00\\00\\00\\00\\00\\00\\00\\00\\00\\00\\00\\00\\00\\00\\00\\00\\00\\00\\00\\00\\00\\00\\00\\00\\00\\00\\00\\00\\00\\00\\00\\00\\00\\00\\00\\00\\00\\00\\00\\00\\00\\00\\00\\00\\00\\00\\00\\00\\00\\00\\00\\00\\00\\00\\00\\00\\00\\00\\00\\00\\00\\00\\00\\00\\00\\00\\00\\00\\00\\00\\00\\00\\00\\00\\00\\00\\00\\00\\00\\00\\00\\00\\00\\00\\00\\00\\00\\00\\00\\00\\00\\00\\00\\00\\00\\00\\00\\00\\00\\00\\00\\00\\00\\00\\00\\00\\00\\00\\00\\00\\00\\00\\00\\00\\00\\00\\00\\00\\00\\00\\00\\00\\00\\00\\00\\00\\00\\00\\00\\00\\00\\00\\00\\00\\00\\00\\00\\00\\00\\00\\00\\00\\00\\00\\00\\00\\00\\00\\00\\00\\00\\00\\00\\00\\00\\00\\00\\00\\00\\00\\00\\00\\00\\00\\00\\00\\00\\00\\00\\00\\00\\00\\00\\00\\00\\00\\00\\00\\00\\00\\00\\00\\00\\00\\00\\00\\00\\00\\00\\00\\00\\00\\00\\00\\00\\00\\00\\00\\00\\00\\00\\00\\00\\00\\00\\00\\00\\00\\00\\00\\00\\00\\00\\00\\00\\00\\00\\00\\00\\00\\00\\00\\00\\00\\00\\00\\00\\00\\00\\00\\00\\00\\00\\00\\00\\00\\00\\00\\00\\00\\00\\00\\00\\00\\00\\00\\00\\00\\00\\00\\00\\00\\00\\00\\00\\00\\00\\00\\00\\00\\00\\00\\00\\00\\00\\00\\00\\00\\00\\00\\00\\00\\00\\00\\00\\00\\00\\00\\00\\00\\00\\00\\00\\00\\00\\00\\00\\00\\00\\00\\00\\00\\00\\00\\00\\00\\00\\00\\00\\00\\00\\00\\00\\00\\00\\00\\00\\00\\00\\00\\00\\00\\00\\00\\00\\00\\00\\00\\00\\00\\00\\00\\00\\00\\00\\00\\00\\00\\00\\00\\00\\00\\00\\00\\00\\00\\00\\00\\00\\00\\00\\00\\00\\00\\00\\00\\00\\00\\00\\00\\00\\00\\00\\00\\00\\00\\00\\00\\00\\00\\00\\00\\00\\00\\00\\00\\00\\00\\00\\00\\00\\00\\00\\00\\00\\00\\00\\00\\00\\00\\00\\00\\00\\00\\00\\00\\00\\00\\00\\00\\00\\00\\00\\00\\00\\00\\00\\00\\00\\00\\00\\00\\00\\00\\00\\00\\00\\00\\00\\00\\00\\00\\00\\00\\00\\00\\00\\00\\00\\00\\00\\00\\00$v\\01\\FF\\00\\0A\\00\\00\\FF\\00\\8E\\07\\00\\C4\\0F\\00\\19y\\0A\\00\\00\\00\\00\\00\\00%\\00\\00\\00\\22\\0E\\00$t\\03\\FF\\18\\00\\00\\00\\FF\\00\\8E\\07\\00\\C6\\0F\\00\\19y\\05\\00\\00\\00\\00\\00\\00!\\00\\00\\00b\\0E\\00%v\\02\\0A\\00Z\\00\\00\\03\\02\\8E\\07\\00\\CC\\1F\\00%x\\02\\05\\04\\00\\00\\00\\02\\02\\8E\\07\\00\\D0/\\00\\81s\\00\\02\\00\\00\\00\\00\\00\\E9\\1E\\00\\00b\\01\\00Us\\FF\\00\\00\\00\\00\\00\\00\\00\\10\\00\\00\\E2\\0F\\00Ey\\00\\00\\B0\\02\\00\\00\\00\\00\\80\\03\\00\\E4\\0F\\00\\19y\\04\\00\\00\\00\\00\\00\\00\\22\\00\\00\\00h\\0E\\00\\19y\\07\\00\\00\\00\\00\\00\\00#\\00\\00\\00d\\0E\\00$z\\04\\07\\00\\01\\00\\00\\04\\02\\8E\\07\\00\\C8/\\00$z\\05\\04\\00\\00\\00\\00\\05\\02\\8E\\07\\00\\E4\\0F\\00$v\\04\\FF\\00\\00\\00\\00\\FF\\00\\8E\\07\\00\\C6\\0F\\00\\12x\\07\\05\\E0\\FF\\FF\\FF\\FF\\C0\\8E\\07\\00\\E2\\0F\\00$z\\04\\04\\00\\01\\00\\00\\FF\\02\\8E\\07\\00\\C8\\0F\\00$z\\07\\04\\00\\02\\00\\00\\07\\0A\\8E\\07\\00\\CA\\0F\\00\\0Cx\\00\\07\\1F\\00\\00\\00pB\\F0\\03\\00\\D8\\0F\\00G\\09\\00\\00P\\01\\00\\00\\00\\00\\80\\03\\00\\EA\\0F\\00$t\\03\\FF\\FF\\FF\\FF\\FF\\FF\\00\\8E\\07\\00\\E2\\1F\\00\\10x\\02\\07 \\00\\00\\00\\FF\\E1\\FF\\07\\00\\E4\\0F\\04\\10x\\07\\07\\FF\\FF\\FF\\FF\\FF\\E0\\FF\\07\\00\\E4\\0F\\00\\19r\\06\\FF\\02\\00\\00\\00\\03\\16\\01\\00\\00\\E2\\0F\\00Gy\\00\\00b\\05\\00\\00\\00\\00\\80\\03\\00\\EA\\0F\\00\\89y\\02\\00\\00\\00 \\0C\\07\\00\\00\\00\\00$\\0E\\02\\07x\\03\\02\\FF\\FF\\FF\\FF\\00\\00\\00\\00\\00\\C8\\1F\\00\\12r\\02\\03\\00\\00\\00\\00\\FF\\C0\\8E\\07\\00\\D0\\0F\\00\\89y\\03\\02\\00\\00@\\0C\\07\\00\\00\\00\\00$\\0E\\00\\07x\\03\\03\\FF\\FF\\FF\\FF\\00\\00\\00\\00\\00\\C8\\1F\\00\\12r\\06\\02\\03\\00\\00\\00\\FF\\C0\\8E\\07\\00\\D0\\0F\\00\\89y\\03\\06\\00\\00\\80\\0C\\07\\00\\00\\00\\00$\\0E\\00\\07x\\03\\03\\FF\\FF\\FF\\FF\\00\\00\\00\\00\\00\\C8\\1F\\00\\12r\\08\\06\\03\\00\\00\\00\\FF\\C0\\8E\\07\\00\\D0\\0F\\00\\89y\\03\\08\\00\\00\\00\\0D\\07\\00\\00\\00\\00$\\0E\\00\\07x\\03\\03\\FF\\FF\\FF\\FF\\00\\00\\00\\00\\00\\C8\\1F\\00\\12r\\00\\08\\03\\00\\00\\00\\FF\\C0\\8E\\07\\00\\D0\\0F\\00\\89y\\03\\00\\00\\00\\00\\0E\\07\\00\\00\\00\\00d\\00\\00\\07x\\03\\03\\FF\\FF\\FF\\FF\\00\\00\\00\\00\\00\\C8/\\00\\12r\\00\\00\\03\\00\\00\\00\\FF\\C0\\8E\\07\\00\\E2\\1F\\00Gy\\00\\00\\B0\\00\\00\\00\\00\\00\\80\\03\\00\\EA\\0F\\00Gy\\00\\00\\82\\06\\00\\00\\00\\00\\80\\03\\00\\EA\\1F\\00\\89\\7F\\03\\00\\00\\1F \\0C\\00\\00\\0E\\00\\00$\\0E\\02\\12r\\03\\03\\00\\00\\00\\00\\FF\\C0\\8E\\07\\00\\D0\\1F\\00\\89\\7F\\02\\03\\00\\1F@\\0C\\00\\00\\0E\\00\\00$\\0E\\00\\12r\\02\\03\\02\\00\\00\\00\\FF\\C0\\8E\\07\\00\\D0\\1F\\00\\89\\7F\\07\\02\\00\\1F\\80\\0C\\00\\00\\0E\\00\\00$\\0E\\00\\12r\\07\\02\\07\\00\\00\\00\\FF\\C0\\8E\\07\\00\\D0\\1F\\00\\89\\7F\\06\\07\\00\\1F\\00\\0D\\00\\00\\0E\\00\\00$\\0E\\00\\12r\\06\\07\\06\\00\\00\\00\\FF\\C0\\8E\\07\\00\\D0\\1F\\00\\89\\7F\\09\\06\\00\\1F\\00\\0E\\00\\00\\0E\\00\\00d\\00\\00\\12r\\00\\06\\09\\00\\00\\00\\FF\\C0\\8E\\07\\00\\C6?\\00Ay\\00\\00\\00\\00\\00\\00\\00\\00\\80\\03\\00\\EA\\0F\\00\\12x\\FF\\05\\1F\\00\\00\\00\\FF\\C0\\80\\07\\00\\E2\\0F\\00Hy\\00\\00\\FF\\FF\\FF\\FF\\00\\00\\80\\03\\00\\E8\\0F\\00\\19x\\0D\\FF\\1F\\00\\00\\00\\0A\\14\\01\\00\\00\\CE\\0F\\00\\19\\88\\02\\FF\\05\\00\\00\\00\\05\\14\\01\\00\\00\\CA\\0F\\00$\\88\\03\\02\\04\\00\\00\\00\\FF\\00\\8E\\07\\00\\D0\\0F\\00\\88\\83\\00\\03\\00\\00\\00\\00\\00\\08\\00\\00\\00\\E4\\01\\00$t\\03\\FF\\1F\\00\\00\\00\\FF\\00\\8E\\07\\00\\E2\\1F\\00\\1D{\\00\\00\\00\\00\\00\\00\\00\\00\\00\\00\\00\\EA\\0F\\00$z\\04\\04\\00\\02\\00\\00\\03\\02\\8E\\07\\00\\CA\\0F\\00\\19x\\03\\FF\\1F\\00\\00\\00\\04\\14\\01\\00\\00\\C8\\0F\\00\\11r\\03\\03\\04\\00\\00\\00\\FF(\\8F\\07\\00\\C8\\0F\\00\\19x\\00\\FF\\05\\00\\00\\00\\03\\14\\01\\00\\00\\C8\\0F\\00\\0Cr\\00\\05\\00\\00\\00\\00pb\\F0\\03\\00\\D8\\0F\\00G\\09\\00\\00P\\02\\00\\00\\00\\00\\80\\03\\00\\EA\\0F\\00$x\\05\\05\\04\\00\\00\\00\\FF\\00\\8E\\07\\00\\E2\\0F\\00\\0Cx\\00\\04\\FF\\03\\00\\00pB\\F0\\03\\00\\CE\\0F\\00\\84y\\05\\05\\00\\00\\00\\00\\00\\18\\00\\00\\00*\\0E\\00G\\09\\00\\00P\\01\\00\\00\\00\\00\\80\\03\\00\\EA\\0F\\00$t\\03\\FF\\FF\\FF\\FF\\FF\\FF\\00\\8E\\07\\00\\E2\\0F\\00\\10x\\02\\00 \\00\\00\\00\\FF\\E1\\FF\\07\\00\\E4\\0F\\04\\10x\\04\\00\\FF\\FF\\FF\\FF\\FF\\E0\\FF\\07\\00\\E4\\0F\\00\\19r\\00\\FF\\02\\00\\00\\00\\03\\16\\01\\00\\00\\E2\\0F\\00Gy\\00\\00R\\06\\00\\00\\00\\00\\80\\03\\00\\EE\\0F\\00\\89y\\00\\05\\00\\00 \\0C\\04\\00\\00\\00\\00$\\1E\\00\\07x\\00\\00\\FF\\FF\\FF\\FF\\00\\00\\00\\00\\00\\C8\\1F\\00\\12r\\03\\00\\05\\00\\00\\00\\FF\\C0\\8E\\07\\00\\D0\\0F\\00\\89y\\00\\03\\00\\00@\\0C\\04\\00\\00\\00\\00$\\0E\\00\\07x\\00\\00\\FF\\FF\\FF\\FF\\00\\00\\00\\00\\00\\C8\\1F\\00\\12r\\07\\03\\00\\00\\00\\00\\FF\\C0\\8E\\07\\00\\D0\\0F\\00\\89y\\00\\07\\00\\00\\80\\0C\\04\\00\\00\\00\\00$\\0E\\00\\07x\\00\\00\\FF\\FF\\FF\\FF\\00\\00\\00\\00\\00\\C8\\1F\\00\\12r\\09\\07\\00\\00\\00\\00\\FF\\C0\\8E\\07\\00\\D0\\0F\\00\\89y\\00\\09\\00\\00\\00\\0D\\04\\00\\00\\00\\00$\\0E\\00\\07x\\00\\00\\FF\\FF\\FF\\FF\\00\\00\\00\\00\\00\\C8\\1F\\00\\12r\\05\\09\\00\\00\\00\\00\\FF\\C0\\8E\\07\\00\\D0\\0F\\00\\89y\\00\\05\\00\\00\\00\\0E\\04\\00\\00\\00\\00d\\00\\00\\07x\\00\\00\\FF\\FF\\FF\\FF\\00\\00\\00\\00\\00\\C8/\\00\\12r\\00\\05\\00\\00\\00\\00\\FF\\C0\\8E\\07\\00\\E2\\0F\\00Gy\\00\\00\\B0\\00\\00\\00\\00\\00\\80\\03\\00\\EE\\0F\\00Gy\\00\\00\\12\\08\\00\\00\\00\\00\\80\\03\\00\\EA\\0F\\00\\89\\7F\\00\\05\\00\\1F \\0C\\00\\00\\0E\\00\\00$\\1E\\00\\12r\\00\\00\\05\\00\\00\\00\\FF\\C0\\8E\\07\\00\\D0\\1F\\00\\89\\7F\\03\\00\\00\\1F@\\0C\\00\\00\\0E\\00\\00$\\0E\\00\\12r\\03\\00\\03\\00\\00\\00\\FF\\C0\\8E\\07\\00\\D0\\1F\\00\\89\\7F\\02\\03\\00\\1F\\80\\0C\\00\\00\\0E\\00\\00$\\0E\\00\\12r\\02\\03\\02\\00\\00\\00\\FF\\C0\\8E\\07\\00\\D0\\1F\\00\\89\\7F\\07\\02\\00\\1F\\00\\0D\\00\\00\\0E\\00\\00$\\0E\\00\\12r\\07\\02\\07\\00\\00\\00\\FF\\C0\\8E\\07\\00\\D0\\1F\\00\\89\\7F\\04\\07\\00\\1F\\00\\0E\\00\\00\\0E\\00\\00d\\00\\00\\12r\\00\\07\\04\\00\\00\\00\\FF\\C0\\8E\\07\\00\\D0?\\00\\88s\\00\\FF\\00\\00\\00\\00\\00\\08\\00\\00\\00\\E4\\03\\00Hy\\00\\00\\FF\\FF\\FF\\FF\\00\\00\\80\\03\\00\\E8\\0F\\00\\1D{\\00\\00\\00\\00\\00\\00\\00\\00\\00\\00\\00\\EA\\0F\\00\\84y\\05\\FF\\00\\00\\00\\00\\00\\18\\00\\00\\00\\22\\1E\\00\\11z\\02\\0A\\00h\\00\\00\\FF\\10\\80\\07\\00\\C8\\0F\\00\\11z\\03\\0A\\00i\\00\\00\\0D\\14\\0F\\00\\00\\D0\\0F\\00\\86s\\00\\02\\05\\00\\00\\00\\00\\E9\\10\\00\\00\\E2\\1F\\00My\\00\\00\\00\\00\\00\\00\\00\\00\\80\\03\\00\\EA\\0F\\00$r\\08\\FF\\FF\\00\\00\\00\\00\\00\\8E\\07\\00\\E2\\0F\\02\\02x\\02\\00 \\07\\00\\00\\00\\0F\\00\\00\\00\\E2\\0F\\00$t\\0B\\FF\\01\\00\\00\\00\\FF\\00\\8E\\07\\00\\C6\\0F\\00Dy\\00\\00\\00\\09\\00\\00\\00\\00\\C0\\03\\00\\EA\\0F\\00\\0Cx\\00\\09\\01\\00\\00\\00pP\\F0\\03\\00\\E2\\0F\\00$t\\0B\\FF\\02\\00\\00\\00\\FF\\00\\8E\\07\\00\\E2\\0F\\00\\02x\\02\\00\\90\\07\\00\\00\\00\\0F\\00\\00\\00\\E4\\0F\\00\\07x\\03\\08\\FF\\FF\\FF\\FF\\00\\00\\00\\04\\00\\C8\\0F\\00\\12r\\00\\03\\00\\00\\00\\00\\FF\\C0\\8E\\07\\00\\CA\\0F\\00$r\\08\\FF\\FF\\00\\00\\00\\00\\00\\8E\\07\\00\\C6\\0F\\00Dy\\00\\00\\90\\08\\00\\00\\00\\00\\C0\\03\\00\\EA\\0F\\00\\0Cx\\00\\09\\01\\00\\00\\00pP\\F0\\03\\00\\E2\\0F\\00$t\\0B\\FF\\04\\00\\00\\00\\FF\\00\\8E\\07\\00\\E2\\0F\\00\\02x\\02\\00\\00\\08\\00\\00\\00\\0F\\00\\00\\00\\E4\\0F\\00\\07x\\03\\08\\FF\\FF\\FF\\FF\\00\\00\\00\\04\\00\\C8\\0F\\00\\12r\\00\\00\\03\\00\\00\\00\\FF\\C0\\8E\\07\\00\\CA\\0F\\00$r\\08\\FF\\FF\\00\\00\\00\\00\\00\\8E\\07\\00\\C6\\0F\\00Dy\\00\\00 \\08\\00\\00\\00\\00\\C0\\03\\00\\EA\\0F\\00\\0Cx\\00\\09\\01\\00\\00\\00pP\\F0\\03\\00\\E2\\0F\\00$t\\0B\\FF\\08\\00\\00\\00\\FF\\00\\8E\\07\\00\\E2\\0F\\00\\02x\\02\\00p\\08\\00\\00\\00\\0F\\00\\00\\00\\E4\\0F\\00\\07x\\03\\08\\FF\\FF\\FF\\FF\\00\\00\\00\\04\\00\\C8\\0F\\00\\12r\\00\\00\\03\\00\\00\\00\\FF\\C0\\8E\\07\\00\\CA\\0F\\00$r\\08\\FF\\FF\\00\\00\\00\\00\\00\\8E\\07\\00\\C6\\0F\\00Dy\\00\\00\\B0\\07\\00\\00\\00\\00\\C0\\03\\00\\EA\\0F\\00\\0Cx\\00\\09\\01\\00\\00\\00pP\\F0\\03\\00\\E2\\0F\\00$t\\0B\\FF\\10\\00\\00\\00\\FF\\00\\8E\\07\\00\\E2\\0F\\00\\02x\\02\\00\\E0\\08\\00\\00\\00\\0F\\00\\00\\00\\E4\\0F\\00\\07x\\03\\08\\FF\\FF\\FF\\FF\\00\\00\\00\\04\\00\\C8\\0F\\00\\12r\\00\\00\\03\\00\\00\\00\\FF\\C0\\8E\\07\\00\\CA\\0F\\00$r\\08\\FF\\FF\\00\\00\\00\\00\\00\\8E\\07\\00\\C6\\0F\\00Dy\\00\\00@\\07\\00\\00\\00\\00\\C0\\03\\00\\EA\\0F\\00\\0Cx\\00\\09\\01\\00\\00\\00p \\F0\\03\\00\\E2\\0F\\00$r\\03\\FF\\FF\\00\\00\\00\\08\\00\\8E\\07\\00\\E2\\0F\\00Gy\\00\\00@\\F9\\FF\\FF\\FF\\FF\\83\\03\\00\\EA\\0F\\00$t\\09\\FF\\01\\00\\00\\00\\FF\\00\\8E\\07\\00\\E2\\0F\\00\\02x\\02\\00`\\09\\00\\00\\00\\0F\\00\\00\\00\\E2\\0F\\00$t\\08\\FF\\1F\\00\\00\\00\\FF\\00\\8E\\07\\00\\E4\\0F\\00$t\\03\\FF\\FF\\FF\\FF\\FF\\FF\\00\\8E\\07\\00\\C6\\0F\\00Dy\\00\\00\\80\\06\\00\\00\\00\\00\\C0\\03\\00\\EA\\0F\\02\\12r\\00\\09\\00\\00\\00\\00\\FF\\C0\\8E\\07\\00\\E2?\\00$t\\09\\FF\\02\\00\\00\\00\\FF\\00\\8E\\07\\00\\E2\\0F\\00\\02x\\02\\00\\C0\\09\\00\\00\\00\\0F\\00\\00\\00\\E2\\0F\\00$t\\08\\FF\\1F\\00\\00\\00\\FF\\00\\8E\\07\\00\\E4\\0F\\00$t\\03\\FF\\FF\\FF\\FF\\FF\\FF\\00\\8E\\07\\00\\C6\\0F\\00Dy\\00\\00 \\06\\00\\00\\00\\00\\C0\\03\\00\\EA\\0F\\00\\12r\\00\\00\\09\\00\\00\\00\\FF\\C0\\8E\\07\\00\\E2?\\00$t\\09\\FF\\04\\00\\00\\00\\FF\\00\\8E\\07\\00\\E2\\0F\\00\\02x\\02\\00 \\0A\\00\\00\\00\\0F\\00\\00\\00\\E2\\0F\\00$t\\08\\FF\\1F\\00\\00\\00\\FF\\00\\8E\\07\\00\\C4\\0F\\00$t\\03\\FF\\FF\\FF\\FF\\FF\\FF\\00\\8E\\07\\00\\C6\\0F\\00Dy\\00\\00\\C0\\05\\00\\00\\00\\00\\C0\\03\\00\\EA\\0F\\00\\12r\\00\\00\\09\\00\\00\\00\\FF\\C0\\8E\\07\\00\\E2?\\00$t\\09\\FF\\08\\00\\00\\00\\FF\\00\\8E\\07\\00\\E2\\0F\\00\\02x\\02\\00\\80\\0A\\00\\00\\00\\0F\\00\\00\\00\\E2\\0F\\00$t\\08\\FF\\1F\\00\\00\\00\\FF\\00\\8E\\07\\00\\E4\\0F\\00$t\\03\\FF\\FF\\FF\\FF\\FF\\FF\\00\\8E\\07\\00\\C6\\0F\\00Dy\\00\\00`\\05\\00\\00\\00\\00\\C0\\03\\00\\EA\\0F\\00\\12r\\06\\00\\09\\00\\00\\00\\FF\\C0\\8E\\07\\00\\E2/\\00$t\\09\\FF\\10\\00\\00\\00\\FF\\00\\8E\\07\\00\\E2\\0F\\00\\02x\\02\\00\\F0\\0A\\00\\00\\00\\0F\\00\\00\\00\\E2\\0F\\00$t\\08\\FF\\1F\\00\\00\\00\\FF\\00\\8E\\07\\00\\E4\\1F\\00$t\\03\\FF\\FF\\FF\\FF\\FF\\FF\\00\\8E\\07\\00\\C4\\0F\\00$r\\00\\FF\\FF\\00\\00\\00\\06\\00\\8E\\07\\00\\C6\\0F\\00Dy\\00\\00\\F0\\04\\00\\00\\00\\00\\C0\\03\\00\\EA\\0F\\00Gy\\00\\00 \\F8\\FF\\FF\\FF\\FF\\83\\03\\00\\EA\\0F\\00$r\\08\\FF\\FF\\00\\00\\00\\05\\00\\8E\\07\\00\\E2\\1F\\00\\02x\\02\\00`\\0B\\00\\00\\00\\0F\\00\\00\\00\\E2\\0F\\00$t\\0B\\FF\\01\\00\\00\\00\\FF\\00\\8E\\07\\00\\E4\\0F\\00$r\\07\\FF\\FF\\00\\00\\00\\04\\00\\8E\\07\\00\\E4\\0F\\00$r\\06\\FF\\FF\\00\\00\\00\\00\\00\\8E\\07\\00\\C6\\0F\\00Dy\\00\\00\\C0\\04\\00\\00\\00\\00\\C0\\03\\00\\EA\\0F\\00\\0Cx\\00\\09\\01\\00\\00\\00pP\\F0\\03\\00\\E2\\0F\\00$t\\0B\\FF\\02\\00\\00\\00\\FF\\00\\8E\\07\\00\\E2\\0F\\00\\02x\\02\\00\\F0\\0B\\00\\00\\00\\0F\\00\\00\\00\\E2\\0F\\00$r\\07\\FF\\FF\\00\\00\\00\\04\\00\\8E\\07\\00\\E2\\0F\\00\\07x\\08\\08\\FF\\FF\\FF\\FF\\00\\00\\00\\04\\00\\E2\\0F\\00$r\\06\\FF\\FF\\00\\00\\00\\00\\00\\8E\\07\\00\\C6\\0F\\00\\12r\\05\\08\\05\\00\\00\\00\\FF\\C0\\8E\\07\\00\\CA\\0F\\00$r\\08\\FF\\FF\\00\\00\\00\\05\\00\\8E\\07\\00\\C6\\0F\\00Dy\\00\\000\\04\\00\\00\\00\\00\\C0\\03\\00\\EA\\0F\\00\\0Cx\\00\\09\\01\\00\\00\\00pP\\F0\\03\\00\\E2\\0F\\00$t\\0B\\FF\\04\\00\\00\\00\\FF\\00\\8E\\07\\00\\E2\\0F\\00\\02x\\02\\00\\80\\0C\\00\\00\\00\\0F\\00\\00\\00\\E2\\0F\\00$r\\07\\FF\\FF\\00\\00\\00\\04\\00\\8E\\07\\00\\E2\\0F\\00\\07x\\08\\08\\FF\\FF\\FF\\FF\\00\\00\\00\\04\\00\\E2\\0F\\00$r\\06\\FF\\FF\\00\\00\\00\\00\\00\\8E\\07\\00\\C6\\0F\\00\\12r\\05\\05\\08\\00\\00\\00\\FF\\C0\\8E\\07\\00\\CA\\0F\\00$r\\08\\FF\\FF\\00\\00\\00\\05\\00\\8E\\07\\00\\C6\\0F\\00Dy\\00\\00\\A0\\03\\00\\00\\00\\00\\C0\\03\\00\\EA\\0F\\00\\0Cx\\00\\09\\01\\00\\00\\00pP\\F0\\03\\00\\E2\\0F\\00$t\\0B\\FF\\08\\00\\00\\00\\FF\\00\\8E\\07\\00\\E2\\0F\\00\\02x\\02\\00\\10\\0D\\00\\00\\00\\0F\\00\\00\\00\\E2\\0F\\00$r\\07\\FF\\FF\\00\\00\\00\\04\\00\\8E\\07\\00\\E2\\0F\\00\\07x\\08\\08\\FF\\FF\\FF\\FF\\00\\00\\00\\04\\00\\E2\\0F\\00$r\\06\\FF\\FF\\00\\00\\00\\00\\00\\8E\\07\\00\\C6\\0F\\00\\12r\\05\\05\\08\\00\\00\\00\\FF\\C0\\8E\\07\\00\\CA\\0F\\00$r\\08\\FF\\FF\\00\\00\\00\\05\\00\\8E\\07\\00\\C6\\0F\\00Dy\\00\\00\\10\\03\\00\\00\\00\\00\\C0\\03\\00\\EA\\0F\\00\\0Cx\\00\\09\\01\\00\\00\\00pP\\F0\\03\\00\\E2\\0F\\00$r\\07\\FF\\FF\\00\\00\\00\\04\\00\\8E\\07\\00\\E2\\0F\\00\\02x\\02\\00\\A0\\0D\\00\\00\\00\\0F\\00\\00\\00\\E2\\0F\\00$r\\06\\FF\\FF\\00\\00\\00\\00\\00\\8E\\07\\00\\E2\\0F\\00\\07x\\08\\08\\FF\\FF\\FF\\FF\\00\\00\\00\\04\\00\\E2\\0F\\00$t\\0B\\FF\\10\\00\\00\\00\\FF\\00\\8E\\07\\00\\C6\\0F\\00\\12r\\05\\05\\08\\00\\00\\00\\FF\\C0\\8E\\07\\00\\CA\\0F\\00$r\\08\\FF\\FF\\00\\00\\00\\05\\00\\8E\\07\\00\\C6\\0F\\00Dy\\00\\00\\80\\02\\00\\00\\00\\00\\C0\\03\\00\\EA\\0F\\00\\0Cx\\00\\09\\01\\00\\00\\00p \\F0\\03\\00\\E2\\0F\\00$r\\00\\FF\\FF\\00\\00\\00\\08\\00\\8E\\07\\00\\E2\\0F\\00Gy\\00\\00\\B0\\F7\\FF\\FF\\FF\\FF\\83\\03\\00\\EA\\0F\\00$r\\00\\FF\\FF\\00\\00\\00\\05\\00\\8E\\07\\00\\E2\\1F\\00\\02x\\02\\000\\0E\\00\\00\\00\\0F\\00\\00\\00\\E2\\0F\\00$t\\09\\FF\\01\\00\\00\\00\\FF\\00\\8E\\07\\00\\E4\\0F\\00$t\\08\\FF\\1F\\00\\00\\00\\FF\\00\\8E\\07\\00\\E4\\0F\\00$t\\03\\FF\\FF\\FF\\FF\\FF\\FF\\00\\8E\\07\\00\\C6\\0F\\00Dy\\00\\00\\B0\\01\\00\\00\\00\\00\\C0\\03\\00\\EA\\0F\\00\\12r\\00\\09\\05\\00\\00\\00\\FF\\C0\\8E\\07\\00\\E2?\\00$t\\09\\FF\\02\\00\\00\\00\\FF\\00\\8E\\07\\00\\E2\\0F\\00\\02x\\02\\00\\90\\0E\\00\\00\\00\\0F\\00\\00\\00\\E2\\0F\\00$t\\08\\FF\\1F\\00\\00\\00\\FF\\00\\8E\\07\\00\\C4\\0F\\00$t\\03\\FF\\FF\\FF\\FF\\FF\\FF\\00\\8E\\07\\00\\C6\\0F\\00Dy\\00\\00P\\01\\00\\00\\00\\00\\C0\\03\\00\\EA\\0F\\00\\12r\\00\\00\\09\\00\\00\\00\\FF\\C0\\8E\\07\\00\\E2?\\00$t\\09\\FF\\04\\00\\00\\00\\FF\\00\\8E\\07\\00\\E2\\0F\\00\\02x\\02\\00\\F0\\0E\\00\\00\\00\\0F\\00\\00\\00\\E2\\0F\\00$t\\08\\FF\\1F\\00\\00\\00\\FF\\00\\8E\\07\\00\\E4\\0F\\00$t\\03\\FF\\FF\\FF\\FF\\FF\\FF\\00\\8E\\07\\00\\C6\\0F\\00Dy\\00\\00\\F0\\00\\00\\00\\00\\00\\C0\\03\\00\\EA\\0F\\00\\12r\\00\\00\\09\\00\\00\\00\\FF\\C0\\8E\\07\\00\\E2?\\00$t\\09\\FF\\08\\00\\00\\00\\FF\\00\\8E\\07\\00\\E2\\0F\\00\\02x\\02\\00P\\0F\\00\\00\\00\\0F\\00\\00\\00\\E2\\0F\\00$t\\08\\FF\\1F\\00\\00\\00\\FF\\00\\8E\\07\\00\\E4\\0F\\00$t\\03\\FF\\FF\\FF\\FF\\FF\\FF\\00\\8E\\07\\00\\C6\\0F\\00Dy\\00\\00\\90\\00\\00\\00\\00\\00\\C0\\03\\00\\EA\\0F\\00\\12r\\07\\00\\09\\00\\00\\00\\FF\\C0\\8E\\07\\00\\E2/\\00$t\\09\\FF\\10\\00\\00\\00\\FF\\00\\8E\\07\\00\\E2\\0F\\00\\02x\\02\\00\\C0\\0F\\00\\00\\00\\0F\\00\\00\\00\\E2\\0F\\00$t\\08\\FF\\1F\\00\\00\\00\\FF\\00\\8E\\07\\00\\C4\\1F\\00$t\\03\\FF\\FF\\FF\\FF\\FF\\FF\\00\\8E\\07\\00\\E4\\0F\\00$r\\00\\FF\\FF\\00\\00\\00\\07\\00\\8E\\07\\00\\C6\\0F\\00Dy\\00\\00 \\00\\00\\00\\00\\00\\C0\\03\\00\\EA\\0F\\00$r\\04\\FF\\FF\\00\\00\\00\\09\\00\\8E\\07\\00\\E2/\\00Gy\\00\\00p\\F6\\FF\\FF\\FF\\FF\\83\\03\\00\\EA\\0F\\00Hs\\00\\00\\03\\00\\00\\00\\00\\00\\80\\03\\00\\E8\\0F\\00\\89s\\09\\00\\09\\00\\00\\0C\\08\\00\\0E\\00\\00b\\00\\00$t\\03\\FF\\00\\00\\00\\00\\FF\\00\\8E\\07\\00\\CC\\0F\\00Py\\00\\02\\E0\\EF\\FF\\FF\\FF\\FF\\C3\\03\\00\\EA\\0F\\00Hs\\00\\00\\06\\00\\00\\00\\00\\00\\80\\03\\00\\E8\\0F\\00\\89s\\08\\08\\0B\\00\\00\\0C\\07\\00\\00\\00\\00\\22\\0E\\00$t\\03\\FF\\00\\00\\00\\00\\FF\\00\\8E\\07\\00\\E2\\0F\\00\\07x\\09\\FF\\01\\00\\00\\00\\00\\00\\00\\04\\00\\CA\\1F\\00Py\\00\\02\\90\\EF\\FF\\FF\\FF\\FF\\C3\\03\\00\\EA\\0F\\00Gy\\00\\00\\F0\\FF\\FF\\FF\\FF\\FF\\83\\03\\00\\C0\\0F\\00\\00\\00\\00\\00\\00\\00\\00\\00\\00\\00\\00\\00\\00\\00\\00\\00\\00\\00\\00\\00\\00\\00\\00\\00\\00\\00\\00\\00\\00\\00\\00\\00\\00\\00\\00\\00\\00\\00\\00\\00\\00\\00\\00\\00\\00\\00\\00\\00\\00\\00\\00\\00\\00\\00\\00\\00\\00\\00\\00\\00\\00\\00\\00\\00\\01\\00\\00\\00\\03\\00\\00\\00\\00\\00\\00\\00\\00\\00\\00\\00\\00\\00\\00\\00\\00\\00\\00\\00@\\00\\00\\00\\00\\00\\00\\00\\D7\\00\\00\\00\\00\\00\\00\\00\\00\\00\\00\\00\\00\\00\\00\\00\\01\\00\\00\\00\\00\\00\\00\\00\\00\\00\\00\\00\\00\\00\\00\\00\\0B\\00\\00\\00\\03\\00\\00\\00\\00\\00\\00\\00\\00\\00\\00\\00\\00\\00\\00\\00\\00\\00\\00\\00\\17\\01\\00\\00\\00\\00\\00\\00T\\01\\00\\00\\00\\00\\00\\00\\00\\00\\00\\00\\00\\00\\00\\00\\01\\00\\00\\00\\00\\00\\00\\00\\00\\00\\00\\00\\00\\00\\00\\00\\13\\00\\00\\00\\02\\00\\00\\00\\00\\00\\00\\00\\00\\00\\00\\00\\00\\00\\00\\00\\00\\00\\00\\00p\\02\\00\\00\\00\\00\\00\\00\\D8\\00\\00\\00\\00\\00\\00\\00\\02\\00\\00\\00\\08\\00\\00\\00\\08\\00\\00\\00\\00\\00\\00\\00\\18\\00\\00\\00\\00\\00\\00\\00\\98\\00\\00\\00\\01\\00\\00\\00\\00\\00\\00\\00\\00\\00\\00\\00\\00\\00\\00\\00\\00\\00\\00\\00H\\03\\00\\00\\00\\00\\00\\00P\\01\\00\\00\\00\\00\\00\\00\\00\\00\\00\\00\\00\\00\\00\\00\\01\\00\\00\\00\\00\\00\\00\\00\\00\\00\\00\\00\\00\\00\\00\\007\\00\\00\\00\\00\\00\\00p\\00\\00\\00\\00\\00\\00\\00\\00\\00\\00\\00\\00\\00\\00\\00\\00\\98\\04\\00\\00\\00\\00\\00\\00x\\00\\00\\00\\00\\00\\00\\00\\05\\00\\00\\00\\00\\00\\00\\00\\04\\00\\00\\00\\00\\00\\00\\00\\00\\00\\00\\00\\00\\00\\00\\00R\\00\\00\\00\\00\\00\\00p\\00\\00\\00\\00\\00\\00\\00\\00\\00\\00\\00\\00\\00\\00\\00\\00\\10\\05\\00\\00\\00\\00\\00\\00\\A8\\01\\00\\00\\00\\00\\00\\00\\05\\00\\00\\00\\0A\\00\\00\\00\\04\\00\\00\\00\\00\\00\\00\\00\\00\\00\\00\\00\\00\\00\\00\\00\\C8\\00\\00\\00\\0B\\00\\00p\\00\\00\\00\\00\\00\\00\\00\\00\\00\\00\\00\\00\\00\\00\\00\\00\\B8\\06\\00\\00\\00\\00\\00\\00\\10\\00\\00\\00\\00\\00\\00\\00\\00\\00\\00\\00\\00\\00\\00\\00\\08\\00\\00\\00\\00\\00\\00\\00\\08\\00\\00\\00\\00\\00\\00\\00\\A5\\00\\00\\00\\09\\00\\00\\00\\00\\00\\00\\00\\00\\00\\00\\00\\00\\00\\00\\00\\00\\00\\00\\00\\C8\\06\\00\\00\\00\\00\\00\\00P\\00\\00\\00\\00\\00\\00\\00\\05\\00\\00\\00\\04\\00\\00\\00\\08\\00\\00\\00\\00\\00\\00\\00\\10\\00\\00\\00\\00\\00\\00\\00~\\00\\00\\00\\01\\00\\00\\00\\02\\00\\00\\00\\00\\00\\00\\00\\00\\00\\00\\00\\00\\00\\00\\00\\18\\07\\00\\00\\00\\00\\00\\00\\C0\\01\\00\\00\\00\\00\\00\\00\\00\\00\\00\\00\\0A\\00\\00\\00\\04\\00\\00\\00\\00\\00\\00\\00\\00\\00\\00\\00\\00\\00\\00\\00@\\00\\00\\00\\01\\00\\00\\00\\06\\00\\10\\00\\00\\00\\00\\00\\00\\00\\00\\00\\00\\00\\00\\00\\00\\09\\00\\00\\00\\00\\00\\00\\80\\10\\00\\00\\00\\00\\00\\00\\05\\00\\00\\00\\08\\00\\00\\10\\80\\00\\00\\00\\00\\00\\00\\00\\00\\00\\00\\00\\00\\00\\00\\00g\\00\\00\\00\\08\\00\\00\\00\\03\\00\\00\\00\\00\\00\\00\\00\\00\\00\\00\\00\\00\\00\\00\\00\\80\\19\\00\\00\\00\\00\\00\\00\\80\\00\\00\\00\\00\\00\\00\\00\\00\\00\\00\\00\\0A\\00\\00\\00\\04\\00\\00\\00\\00\\00\\00\\00\\00\\00\\00\\00\\00\\00\\00\\00\\06\\00\\00\\00\\05\\00\\00\\00\\80\\1C\\00\\00\\00\\00\\00\\00\\00\\00\\00\\00\\00\\00\\00\\00\\00\\00\\00\\00\\00\\00\\00\\00\\E0\\00\\00\\00\\00\\00\\00\\00\\E0\\00\\00\\00\\00\\00\\00\\00\\08\\00\\00\\00\\00\\00\\00\\00\\01\\00\\00\\00\\05\\00\\00\\00\\18\\07\\00\\00\\00\\00\\00\\00\\00\\00\\00\\00\\00\\00\\00\\00\\00\\00\\00\\00\\00\\00\\00\\00h\\12\\00\\00\\00\\00\\00\\00h\\12\\00\\00\\00\\00\\00\\00\\08\\00\\00\\00\\00\\00\\00\\00\\01\\00\\00\\00\\06\\00\\00\\00\\80\\19\\00\\00\\00\\00\\00\\00\\00\\00\\00\\00\\00\\00\\00\\00\\00\\00\\00\\00\\00\\00\\00\\00\\00\\00\\00\\00\\00\\00\\00\\00\\80\\00\\00\\00\\00\\00\\00\\00\\08\\00\\00\\00\\00\\00\\00\\00\\01\\00\\00\\00\\05\\00\\00\\00\\80\\1C\\00\\00\\00\\00\\00\\00\\00\\00\\00\\00\\00\\00\\00\\00\\00\\00\\00\\00\\00\\00\\00\\00\\E0\\00\\00\\00\\00\\00\\00\\00\\E0\\00\\00\\00\\00\\00\\00\\00\\08\\00\\00\\00\\00\\00\\00\\00\\01\\00\\01\\01H\\00\\00\\00\\90\\06\\00\\00\\00\\00\\00\\00\\89\\06\\00\\00@\\00\\00\\00\\05\\00\\07\\00K\\00\\00\\00\\00\\00\\00\\00\\00\\00\\00\\00\\11 \\00\\00\\00\\00\\00\\00\\00\\00\\00\\00\\00\\00\\00\\00\\EA\\0F\\00\\00\\00\\00\\00\\00\\00\\00\\00\\00\\00\\00\\00\\00\\F2!\\0A\\0A\\0A\\0A.version 7.5\\0A.target sm_75\\0A.address_size 64\\0A0\\00\\F8\\17isible .entry main_kernel(\\0A.param .u64\\19\\00\\11_\\17\\00?_0,!\\00\\0C\\1F1!\\00\\0D\\1F2!\\00\\0D\\1F3!\\00\\0D\\1F4!\\00\\0D\\1F5!\\00\\0D\\1F6!\\00\\0D\\1F7!\\00\\0D\\1F8!\\00\\0D\\1F9!\\00\\0D\\1F1K\\01\\0F\\F3\\1A1\\0A)\\0A.maxntid 6, 1, 1\\0A{\\0A.reg .pred %p<15>;\\13\\00\\96b32 %r<88\\12\\00\\8064 %rd<1\\13\\00`\\0A\\09.sha7\\00\\F8\\03.align 4 .b8 __wg_~\\00\\A20[128];\\0Ald\\A0\\00\\22.uF\\00O5, [\\A6\\00\\00\\F4\\02];\\0Acvta.to.global0\\00!6,6\\00q;\\0Amov.u\\9C\\00\\C915, %ctaid.x\\18\\00\\00,\\00\\13t\\16\\00\\91ul.wide.s\\1B\\003d7,9\\00\\9224;\\0Aadd.s_\\00&8,e\\00\\1E77\\00#9,X\\00\\0A6\\00610,=\\00\\119\\E5\\00\\04\\B6\\00\\018\\00A1, ['\\00\\19]\\A0\\00\\00\\85\\00-nt\\B7\\00\\148\\17\\00\\19y\\17\\00\\149\\17\\00\\18z\\17\\00\\102{\\00\\0D-\\00#21\\16\\00\\00,\\00Sad.lo\\C2\\00422,\\1F\\00\\02i\\002r20\\E7\\00\\06#\\00$3,\\9D\\00<r18@\\00\\15,E\\00\\03\\22\\00\\1B6?\\00&3,D\\00c9;\\0AandC\\02\\224,@\\00(31\\16\\00\\142\\17\\00\\83-32;\\0AsubG\\00%5,L\\00\\A24;\\0Asetp.gt\\1C\\002p1,!\\00\\00J\\00\\F2\\03@%p1 bra $L__BB0_2\\08\\01\\02^\\00J34, X\\00335,\\18\\009%r5+\\00\\A36, -1;\\0AshrE\\01337,\\18\\00\\007\\00\\03\\F1\\01\\02E\\00\\138\\82\\00\\021\\00\\C0fl.sync.bflyN\\00\\82\\09%r39|%p'\\01\\01c\\03\\044\\00 37\\CD\\00#lpu\\00\\1149\\02 39J\\00Y, %p21\\01%1,#\\00\\0Fh\\00\\05s42|%p3,.\\00\\1F2i\\00\\07\\02$\\00\\142i\\00\\193i\\00&4,o\\00\\1F3j\\00\\05c5|%p4,/\\00\\1F4j\\00\\07\\010\\01$45j\\00\\194j\\00&7,p\\00\\1F6j\\00\\05c8|%p5,/\\00\\1F8j\\00\\07\\01\\8E\\03$48j\\00\\185j\\00650,p\\00\\1F9j\\00\\04s51|%p6,/\\00/16k\\00\\06\\115Z\\01$51k\\00\\186k\\00\\158B\\00\\00)\\00\\95;\\0Abra.uni\\92\\0253;\\0A\\9D\\02\\1F:\\89\\00\\03&25+\\02\\113f\\00\\08a\\00\\112a\\00/25\\09\\02\\09327,*\\00\\1F2C\\00\\02&8,I\\00\\1F7D\\00\\05#9,+\\00\\1F4D\\00\\01630,J\\00\\0FS\\01\\05\\007\\00\\02+\\00\\1F8D\\00\\02%2,J\\00/31D\\00\\05#3,+\\00/16E\\00\\01\\02q\\01\\03K\\00\\07^\\01-3:_\\06\\1F4_\\06\\02\\00\\89\\06\\01S\\04\\13n\\DA\\05\\12p(\\022, 0\\13\\04\\03>\\00?12,\\CA\\06\\00\\01u\\04\\197u\\04\\1258\\04\\02\\1E\\04#53\\D3\\04\\1E5A\\06311,\\22\\00\\0AB\\06$3,p\\00\\01%\\00C;\\0AstX\\07\\10.\\8D\\04\\00>\\0613],\\FC\\00\\06\\F0\\00/5:%\\07\\04\\01e\\00!d4D\\07\\00b\\00\\04~\\00\\122\\F6\\06Q;\\0Abarv\\01( 0\\D7\\04\\139t\\05)31\\CF\\00\\01\\AE\\03\\169\\17\\00\\02\\1E\\05355,\\1D\\00(27E\\00456,K\\00\\195\\17\\01\\02%\\07\\00\\1F\\00\\145\\D1\\05\\04~\\01\\1381\\01\\00%\\00\\01^\\01\\198^\\01/10I\\01\\00\\04e\\01\\0B\\8A\\07\\01\\96\\00\\05I\\01\\113\\8C\\07\\07I\\014%r1\\8D\\07,5]X\\06\\139\\BA\\00A1023\\87\\00\\199\\87\\00\\188/\\06,66Z\\06367,\\18\\00\\02\\C7\\00\\07,\\00\\01\\A3\\04\\08=\\01369,\\18\\00\\008\\00\\08?\\01370,,\\01\\1F-\\1F\\03\\05\\107\\B6\\04\\02N\\01\\141^\\06\\027\\00)69\\B6\\04\\117\\06\\01\\157\\B6\\04(10F\\03573,$\\00\\1F1l\\00\\06\\104l\\00#1,0\\00\\1F2l\\00\\07\\01y\\01%74l\\00\\09\\B2\\03676,r\\00\\1F5l\\00\\05\\107l\\00#2,0\\00\\1F4l\\00\\07\\018\\01%77l\\00\\097\\07679,r\\00\\1F8l\\00\\04 80l\\00#3,0\\00\\1F8l\\00\\06!81v\\03\\150l\\00\\09:\\07582,r\\00\\1F8D\\01\\05 83l\\00#4,0\\00/16m\\00\\07\\02%\\00\\153m\\00\\194m\\00%7,s\\00.84h\\06\\169\\1A\\04\\1F8h\\06\\04'576\\02\\0EY\\05\\115\\08\\01/57\\13\\02\\0A359,+\\00\\0Fj\\06\\02660,J\\00\\1F9D\\00\\04361,+\\00\\0Fj\\06\\02562,J\\00\\1F6\\88\\00\\05363,+\\00\\0Fj\\06\\02664,J\\00\\0F\\D5\\08\\05365,+\\00\\0Fj\\06\\04&7,K\\00\\165`\\01,9:\\A1\\05\\0E'\\06\\02\\AF\\05\\1675\\00910:y\\05\\0C\\9A\\04?85,H\\00\\02\\00\\BC\\00\\14lv\\0D\\02>\\02\\00\\CA\\05\\1A2\\F9\\04\\01\\AA\\00\\03\\FA\\05!16A\\06\\07\\84\\0C\\01\\F2\\04\\127\\93\\00\\C05;\\0Aret;\\0A\\0A}\\0A\\00\\00\\00\\00\\00\\00\\00\\00\">]\n",
            "  llvm.func @printMemrefI32(i64, !llvm.ptr) attributes {sym_visibility = \"private\"}\n",
            "  llvm.func @main_capi_wrapper() attributes {llvm.emit_c_interface} {\n",
            "    llvm.call @main() : () -> ()\n",
            "    llvm.return\n",
            "  }\n",
            "  llvm.func @_mlir_ciface_main_capi_wrapper() attributes {llvm.emit_c_interface} {\n",
            "    llvm.call @main_capi_wrapper() : () -> ()\n",
            "    llvm.return\n",
            "  }\n",
            "  llvm.func @mgpuMemHostRegisterMemRef(i64, !llvm.ptr, i64)\n",
            "}\n",
            "\n"
          ]
        }
      ]
    },
    {
      "cell_type": "markdown",
      "source": [
        "# Load and run"
      ],
      "metadata": {
        "id": "sOapyydH8n4h"
      }
    },
    {
      "cell_type": "code",
      "source": [
        "!pip install -q wurlitzer\n",
        "from wurlitzer import pipes"
      ],
      "metadata": {
        "id": "gpTHsbu4VNci"
      },
      "execution_count": null,
      "outputs": []
    },
    {
      "cell_type": "code",
      "source": [
        "with pipes() as (out, err):\n",
        "    backend.load(compiled_module).main_capi_wrapper()"
      ],
      "metadata": {
        "id": "pOEC4Qgw8p9X",
        "ExecuteTime": {
          "end_time": "2024-02-02T23:38:05.767998906Z",
          "start_time": "2024-02-02T23:38:05.668915066Z"
        }
      },
      "execution_count": null,
      "outputs": []
    },
    {
      "cell_type": "code",
      "source": [
        "print(out.read())"
      ],
      "metadata": {
        "id": "_ny2SNFEUody",
        "colab": {
          "base_uri": "https://localhost:8080/"
        },
        "outputId": "7e2a5a73-42ac-4027-dd2a-37bb979459e0"
      },
      "execution_count": null,
      "outputs": [
        {
          "output_type": "stream",
          "name": "stdout",
          "text": [
            "Unranked Memref base@ = 0x567703fb08a0 rank = 1 offset = 0 sizes = [2] strides = [1] data = \n",
            "[0,  2]\n",
            "\n"
          ]
        }
      ]
    }
  ]
}